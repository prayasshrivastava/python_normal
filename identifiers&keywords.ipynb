{
  "nbformat": 4,
  "nbformat_minor": 0,
  "metadata": {
    "colab": {
      "name": "identifiers&keywords.ipynb",
      "version": "0.3.2",
      "provenance": [],
      "include_colab_link": true
    },
    "kernelspec": {
      "name": "python3",
      "display_name": "Python 3"
    }
  },
  "cells": [
    {
      "cell_type": "markdown",
      "metadata": {
        "id": "view-in-github",
        "colab_type": "text"
      },
      "source": [
        "<a href=\"https://colab.research.google.com/github/prayasshrivastava/python_normal/blob/master/identifiers%26keywords.ipynb\" target=\"_parent\"><img src=\"https://colab.research.google.com/assets/colab-badge.svg\" alt=\"Open In Colab\"/></a>"
      ]
    },
    {
      "cell_type": "code",
      "metadata": {
        "id": "ldjN4RJVd2RE",
        "colab_type": "code",
        "colab": {}
      },
      "source": [
        ""
      ],
      "execution_count": 0,
      "outputs": []
    },
    {
      "cell_type": "markdown",
      "metadata": {
        "id": "pbamira7d7BJ",
        "colab_type": "text"
      },
      "source": [
        "Python Idetifiers\n",
        "\n",
        "Python identifiers is a name used to identify a variable,function,class,module or other object"
      ]
    },
    {
      "cell_type": "code",
      "metadata": {
        "id": "f3IPOqUOeT0Z",
        "colab_type": "code",
        "colab": {
          "base_uri": "https://localhost:8080/",
          "height": 53
        },
        "outputId": "ef8ac607-4f6c-4966-9e52-6c8bdbb27a2b"
      },
      "source": [
        "# programme to print all keywords\n",
        "\n",
        "import keyword\n",
        "print(keyword.kwlist)\n"
      ],
      "execution_count": 1,
      "outputs": [
        {
          "output_type": "stream",
          "text": [
            "['False', 'None', 'True', 'and', 'as', 'assert', 'break', 'class', 'continue', 'def', 'del', 'elif', 'else', 'except', 'finally', 'for', 'from', 'global', 'if', 'import', 'in', 'is', 'lambda', 'nonlocal', 'not', 'or', 'pass', 'raise', 'return', 'try', 'while', 'with', 'yield']\n"
          ],
          "name": "stdout"
        }
      ]
    },
    {
      "cell_type": "code",
      "metadata": {
        "id": "NE70-0P7fvWT",
        "colab_type": "code",
        "colab": {
          "base_uri": "https://localhost:8080/",
          "height": 33
        },
        "outputId": "524b4529-a30b-43df-b300-fb5444c8b00b"
      },
      "source": [
        "# count to all keywords\n",
        "\n",
        "print(len(keyword.kwlist))"
      ],
      "execution_count": 3,
      "outputs": [
        {
          "output_type": "stream",
          "text": [
            "33\n"
          ],
          "name": "stdout"
        }
      ]
    },
    {
      "cell_type": "code",
      "metadata": {
        "id": "S5WhOl8Yf6My",
        "colab_type": "code",
        "colab": {}
      },
      "source": [
        "# 'async' and 'await' are the latest keyword in python thus total keyword is = 33+2=35"
      ],
      "execution_count": 0,
      "outputs": []
    }
  ]
}